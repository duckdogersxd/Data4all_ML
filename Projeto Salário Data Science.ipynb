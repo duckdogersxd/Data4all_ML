{
 "cells": [
  {
   "cell_type": "markdown",
   "id": "42ced7a6",
   "metadata": {},
   "source": [
    "# Técnicas que serão utilizadas\n",
    "\n",
    "* Divisão de dados em treino e teste\n",
    "* Feature selection (Heatmat)\n",
    "* Label Encoder (Transforma valores categoricos em númericos)\n",
    "* Random Forest (Conjunto de Árvores de decisão)\n",
    "* Curva de aprendizado (Ánalise de Under/Overfiting)\n",
    "* Ánalise de overfiting ou underfiting\n",
    "* Otimização de Hiperparâmetros\n",
    "* Cross Validation\n",
    "* Verificação de importância de cada feature\n",
    "* Visualização de predições"
   ]
  },
  {
   "cell_type": "markdown",
   "id": "4d57a76f",
   "metadata": {},
   "source": [
    "# Entendendo os dados"
   ]
  },
  {
   "cell_type": "code",
   "execution_count": 1,
   "id": "de77d594",
   "metadata": {},
   "outputs": [],
   "source": [
    "# Importando as bibliotecas que serão utilizadas\n",
    "import pandas as pd\n",
    "import numpy as np\n",
    "import matplotlib.pyplot as plt\n",
    "import seaborn as sns\n",
    "\n",
    "from sklearn.model_selection import train_test_split\n",
    "from sklearn.preprocessing import LabelEncoder\n",
    "from sklearn.metrics import r2_score,mean_absolute_error\n",
    "from sklearn.neighbors import KNeighborsRegressor\n",
    "from sklearn.tree import DecisionTreeRegressor\n",
    "from sklearn.ensemble import RandomForestRegressor\n",
    "from sklearn import neighbors\n",
    "\n",
    "from sklearn.model_selection import RandomizedSearchCV\n",
    "\n",
    "from sklearn.model_selection import learning_curve"
   ]
  },
  {
   "cell_type": "code",
   "execution_count": 2,
   "id": "9ec97235",
   "metadata": {},
   "outputs": [],
   "source": [
    "# Carregado base de dados\n",
    "df = pd.read_csv('ds_salaries.csv')"
   ]
  },
  {
   "cell_type": "code",
   "execution_count": 3,
   "id": "a5e5eeb6",
   "metadata": {},
   "outputs": [
    {
     "data": {
      "text/plain": [
       "(3755, 11)"
      ]
     },
     "execution_count": 3,
     "metadata": {},
     "output_type": "execute_result"
    }
   ],
   "source": [
    "# Entendendo a base de dados\n",
    "df.shape"
   ]
  },
  {
   "cell_type": "code",
   "execution_count": 4,
   "id": "07bcb420",
   "metadata": {
    "scrolled": false
   },
   "outputs": [
    {
     "data": {
      "text/html": [
       "<div>\n",
       "<style scoped>\n",
       "    .dataframe tbody tr th:only-of-type {\n",
       "        vertical-align: middle;\n",
       "    }\n",
       "\n",
       "    .dataframe tbody tr th {\n",
       "        vertical-align: top;\n",
       "    }\n",
       "\n",
       "    .dataframe thead th {\n",
       "        text-align: right;\n",
       "    }\n",
       "</style>\n",
       "<table border=\"1\" class=\"dataframe\">\n",
       "  <thead>\n",
       "    <tr style=\"text-align: right;\">\n",
       "      <th></th>\n",
       "      <th>work_year</th>\n",
       "      <th>experience_level</th>\n",
       "      <th>employment_type</th>\n",
       "      <th>job_title</th>\n",
       "      <th>salary</th>\n",
       "      <th>salary_currency</th>\n",
       "      <th>salary_in_usd</th>\n",
       "      <th>employee_residence</th>\n",
       "      <th>remote_ratio</th>\n",
       "      <th>company_location</th>\n",
       "      <th>company_size</th>\n",
       "    </tr>\n",
       "  </thead>\n",
       "  <tbody>\n",
       "    <tr>\n",
       "      <th>0</th>\n",
       "      <td>2023</td>\n",
       "      <td>SE</td>\n",
       "      <td>FT</td>\n",
       "      <td>Principal Data Scientist</td>\n",
       "      <td>80000</td>\n",
       "      <td>EUR</td>\n",
       "      <td>85847</td>\n",
       "      <td>ES</td>\n",
       "      <td>100</td>\n",
       "      <td>ES</td>\n",
       "      <td>L</td>\n",
       "    </tr>\n",
       "    <tr>\n",
       "      <th>1</th>\n",
       "      <td>2023</td>\n",
       "      <td>MI</td>\n",
       "      <td>CT</td>\n",
       "      <td>ML Engineer</td>\n",
       "      <td>30000</td>\n",
       "      <td>USD</td>\n",
       "      <td>30000</td>\n",
       "      <td>US</td>\n",
       "      <td>100</td>\n",
       "      <td>US</td>\n",
       "      <td>S</td>\n",
       "    </tr>\n",
       "    <tr>\n",
       "      <th>2</th>\n",
       "      <td>2023</td>\n",
       "      <td>MI</td>\n",
       "      <td>CT</td>\n",
       "      <td>ML Engineer</td>\n",
       "      <td>25500</td>\n",
       "      <td>USD</td>\n",
       "      <td>25500</td>\n",
       "      <td>US</td>\n",
       "      <td>100</td>\n",
       "      <td>US</td>\n",
       "      <td>S</td>\n",
       "    </tr>\n",
       "    <tr>\n",
       "      <th>3</th>\n",
       "      <td>2023</td>\n",
       "      <td>SE</td>\n",
       "      <td>FT</td>\n",
       "      <td>Data Scientist</td>\n",
       "      <td>175000</td>\n",
       "      <td>USD</td>\n",
       "      <td>175000</td>\n",
       "      <td>CA</td>\n",
       "      <td>100</td>\n",
       "      <td>CA</td>\n",
       "      <td>M</td>\n",
       "    </tr>\n",
       "    <tr>\n",
       "      <th>4</th>\n",
       "      <td>2023</td>\n",
       "      <td>SE</td>\n",
       "      <td>FT</td>\n",
       "      <td>Data Scientist</td>\n",
       "      <td>120000</td>\n",
       "      <td>USD</td>\n",
       "      <td>120000</td>\n",
       "      <td>CA</td>\n",
       "      <td>100</td>\n",
       "      <td>CA</td>\n",
       "      <td>M</td>\n",
       "    </tr>\n",
       "  </tbody>\n",
       "</table>\n",
       "</div>"
      ],
      "text/plain": [
       "   work_year experience_level employment_type                 job_title  \\\n",
       "0       2023               SE              FT  Principal Data Scientist   \n",
       "1       2023               MI              CT               ML Engineer   \n",
       "2       2023               MI              CT               ML Engineer   \n",
       "3       2023               SE              FT            Data Scientist   \n",
       "4       2023               SE              FT            Data Scientist   \n",
       "\n",
       "   salary salary_currency  salary_in_usd employee_residence  remote_ratio  \\\n",
       "0   80000             EUR          85847                 ES           100   \n",
       "1   30000             USD          30000                 US           100   \n",
       "2   25500             USD          25500                 US           100   \n",
       "3  175000             USD         175000                 CA           100   \n",
       "4  120000             USD         120000                 CA           100   \n",
       "\n",
       "  company_location company_size  \n",
       "0               ES            L  \n",
       "1               US            S  \n",
       "2               US            S  \n",
       "3               CA            M  \n",
       "4               CA            M  "
      ]
     },
     "execution_count": 4,
     "metadata": {},
     "output_type": "execute_result"
    }
   ],
   "source": [
    "# Visualizando os dados\n",
    "df.head()"
   ]
  },
  {
   "cell_type": "markdown",
   "id": "2f09163e",
   "metadata": {},
   "source": [
    "Nossa objetivo nesse dataset é prever o valor da coluna \"salary_in_usd\" a partir dos outros dados, para isso vamos excluir a coluna \"salary\" que torna a solução trivial que seria so uma conversão de moeda."
   ]
  },
  {
   "cell_type": "code",
   "execution_count": 5,
   "id": "9a68c9d3",
   "metadata": {},
   "outputs": [],
   "source": [
    "df = df.drop(columns=['salary'])"
   ]
  },
  {
   "cell_type": "code",
   "execution_count": 6,
   "id": "08d66f74",
   "metadata": {},
   "outputs": [
    {
     "data": {
      "text/plain": [
       "work_year             0\n",
       "experience_level      0\n",
       "employment_type       0\n",
       "job_title             0\n",
       "salary_currency       0\n",
       "salary_in_usd         0\n",
       "employee_residence    0\n",
       "remote_ratio          0\n",
       "company_location      0\n",
       "company_size          0\n",
       "dtype: int64"
      ]
     },
     "execution_count": 6,
     "metadata": {},
     "output_type": "execute_result"
    }
   ],
   "source": [
    "# Verificando se existem valores nulos\n",
    "df.isnull().sum()"
   ]
  },
  {
   "cell_type": "code",
   "execution_count": 7,
   "id": "0d2e40a9",
   "metadata": {
    "scrolled": true
   },
   "outputs": [
    {
     "data": {
      "text/plain": [
       "work_year              int64\n",
       "experience_level      object\n",
       "employment_type       object\n",
       "job_title             object\n",
       "salary_currency       object\n",
       "salary_in_usd          int64\n",
       "employee_residence    object\n",
       "remote_ratio           int64\n",
       "company_location      object\n",
       "company_size          object\n",
       "dtype: object"
      ]
     },
     "execution_count": 7,
     "metadata": {},
     "output_type": "execute_result"
    }
   ],
   "source": [
    "# Verificando os tipos das colunas\n",
    "df.dtypes"
   ]
  },
  {
   "cell_type": "code",
   "execution_count": 8,
   "id": "84ca7743",
   "metadata": {
    "scrolled": true
   },
   "outputs": [
    {
     "data": {
      "text/plain": [
       "experience_level       4\n",
       "employment_type        4\n",
       "job_title             93\n",
       "salary_currency       20\n",
       "employee_residence    78\n",
       "company_location      72\n",
       "company_size           3\n",
       "dtype: int64"
      ]
     },
     "execution_count": 8,
     "metadata": {},
     "output_type": "execute_result"
    }
   ],
   "source": [
    "# Verificando o número de ocorrências das colunas não númericas\n",
    "df.select_dtypes(exclude='number').nunique()"
   ]
  },
  {
   "cell_type": "markdown",
   "id": "e9814903",
   "metadata": {},
   "source": [
    "Ao observar esse número de ocorrência das colunas categoricas é possível observar que a coluna \"job_title\" pode ser um problema."
   ]
  },
  {
   "cell_type": "code",
   "execution_count": 9,
   "id": "b216e42c",
   "metadata": {},
   "outputs": [
    {
     "data": {
      "text/plain": [
       "array(['Principal Data Scientist', 'ML Engineer', 'Data Scientist',\n",
       "       'Applied Scientist', 'Data Analyst', 'Data Modeler',\n",
       "       'Research Engineer', 'Analytics Engineer',\n",
       "       'Business Intelligence Engineer', 'Machine Learning Engineer',\n",
       "       'Data Strategist', 'Data Engineer', 'Computer Vision Engineer',\n",
       "       'Data Quality Analyst', 'Compliance Data Analyst',\n",
       "       'Data Architect', 'Applied Machine Learning Engineer',\n",
       "       'AI Developer', 'Research Scientist', 'Data Analytics Manager',\n",
       "       'Business Data Analyst', 'Applied Data Scientist',\n",
       "       'Staff Data Analyst', 'ETL Engineer', 'Data DevOps Engineer',\n",
       "       'Head of Data', 'Data Science Manager', 'Data Manager',\n",
       "       'Machine Learning Researcher', 'Big Data Engineer',\n",
       "       'Data Specialist', 'Lead Data Analyst', 'BI Data Engineer',\n",
       "       'Director of Data Science', 'Machine Learning Scientist',\n",
       "       'MLOps Engineer', 'AI Scientist', 'Autonomous Vehicle Technician',\n",
       "       'Applied Machine Learning Scientist', 'Lead Data Scientist',\n",
       "       'Cloud Database Engineer', 'Financial Data Analyst',\n",
       "       'Data Infrastructure Engineer', 'Software Data Engineer',\n",
       "       'AI Programmer', 'Data Operations Engineer', 'BI Developer',\n",
       "       'Data Science Lead', 'Deep Learning Researcher', 'BI Analyst',\n",
       "       'Data Science Consultant', 'Data Analytics Specialist',\n",
       "       'Machine Learning Infrastructure Engineer', 'BI Data Analyst',\n",
       "       'Head of Data Science', 'Insight Analyst',\n",
       "       'Deep Learning Engineer', 'Machine Learning Software Engineer',\n",
       "       'Big Data Architect', 'Product Data Analyst',\n",
       "       'Computer Vision Software Engineer', 'Azure Data Engineer',\n",
       "       'Marketing Data Engineer', 'Data Analytics Lead', 'Data Lead',\n",
       "       'Data Science Engineer', 'Machine Learning Research Engineer',\n",
       "       'NLP Engineer', 'Manager Data Management',\n",
       "       'Machine Learning Developer', '3D Computer Vision Researcher',\n",
       "       'Principal Machine Learning Engineer', 'Data Analytics Engineer',\n",
       "       'Data Analytics Consultant', 'Data Management Specialist',\n",
       "       'Data Science Tech Lead', 'Data Scientist Lead',\n",
       "       'Cloud Data Engineer', 'Data Operations Analyst',\n",
       "       'Marketing Data Analyst', 'Power BI Developer',\n",
       "       'Product Data Scientist', 'Principal Data Architect',\n",
       "       'Machine Learning Manager', 'Lead Machine Learning Engineer',\n",
       "       'ETL Developer', 'Cloud Data Architect', 'Lead Data Engineer',\n",
       "       'Head of Machine Learning', 'Principal Data Analyst',\n",
       "       'Principal Data Engineer', 'Staff Data Scientist',\n",
       "       'Finance Data Analyst'], dtype=object)"
      ]
     },
     "execution_count": 9,
     "metadata": {},
     "output_type": "execute_result"
    }
   ],
   "source": [
    "df['job_title'].unique()"
   ]
  },
  {
   "cell_type": "markdown",
   "id": "b344f622",
   "metadata": {},
   "source": [
    "É possível ver algumas redundâncias incoerrentes com a existência de uma coluna que diz o nível de senioriade, então organizamos melhor esses dados."
   ]
  },
  {
   "cell_type": "code",
   "execution_count": 10,
   "id": "bdcd0665",
   "metadata": {},
   "outputs": [
    {
     "data": {
      "text/plain": [
       "Data Engineer                0.276964\n",
       "Data Scientist               0.223702\n",
       "Data Analyst                 0.162983\n",
       "Machine Learning Engineer    0.076964\n",
       "Analytics Engineer           0.027430\n",
       "Data Architect               0.026897\n",
       "Research Scientist           0.021838\n",
       "Data Science Manager         0.015446\n",
       "Applied Scientist            0.015446\n",
       "Research Engineer            0.009854\n",
       "Name: job_title, dtype: float64"
      ]
     },
     "execution_count": 10,
     "metadata": {},
     "output_type": "execute_result"
    }
   ],
   "source": [
    "df['job_title'].value_counts(normalize=True)[:10]"
   ]
  },
  {
   "cell_type": "code",
   "execution_count": 11,
   "id": "1f4f64aa",
   "metadata": {},
   "outputs": [],
   "source": [
    "data_eng = ['Data Architect']\n",
    "data_sci = ['Applied Scientist','Research Engineer','Research Scientist','Data Science Manager']\n",
    "data_ana = ['Analytics Engineer']\n",
    "\n",
    "df['job_title'] = df['job_title'].replace(data_sci, 'Data Scientist')\n",
    "df['job_title'] = df['job_title'].replace(data_eng, 'Data Engineer')\n",
    "df['job_title'] = df['job_title'].replace(data_ana, 'Data Analyst')\n",
    "\n",
    "jobs = ['Data Engineer','Data Scientist','Data Analyst','Machine Learning Engineer']\n",
    "\n",
    "df.drop(df[~df['job_title'].isin(jobs)].index, inplace = True)"
   ]
  },
  {
   "cell_type": "code",
   "execution_count": 12,
   "id": "db7779bf",
   "metadata": {
    "scrolled": true
   },
   "outputs": [
    {
     "data": {
      "text/plain": [
       "Data Engineer                0.354348\n",
       "Data Scientist               0.333851\n",
       "Data Analyst                 0.222050\n",
       "Machine Learning Engineer    0.089752\n",
       "Name: job_title, dtype: float64"
      ]
     },
     "execution_count": 12,
     "metadata": {},
     "output_type": "execute_result"
    }
   ],
   "source": [
    "df['job_title'].value_counts(normalize=True)"
   ]
  },
  {
   "cell_type": "markdown",
   "id": "f4fe93a3",
   "metadata": {},
   "source": [
    "Selecionamos os 4 principais para serem utilizados, foram realocados os outros com maiores ocorrências e removidos os restantes."
   ]
  },
  {
   "cell_type": "code",
   "execution_count": 13,
   "id": "4beef220",
   "metadata": {
    "scrolled": true
   },
   "outputs": [
    {
     "data": {
      "text/html": [
       "<div>\n",
       "<style scoped>\n",
       "    .dataframe tbody tr th:only-of-type {\n",
       "        vertical-align: middle;\n",
       "    }\n",
       "\n",
       "    .dataframe tbody tr th {\n",
       "        vertical-align: top;\n",
       "    }\n",
       "\n",
       "    .dataframe thead th {\n",
       "        text-align: right;\n",
       "    }\n",
       "</style>\n",
       "<table border=\"1\" class=\"dataframe\">\n",
       "  <thead>\n",
       "    <tr style=\"text-align: right;\">\n",
       "      <th></th>\n",
       "      <th>work_year</th>\n",
       "      <th>salary_in_usd</th>\n",
       "      <th>remote_ratio</th>\n",
       "    </tr>\n",
       "  </thead>\n",
       "  <tbody>\n",
       "    <tr>\n",
       "      <th>count</th>\n",
       "      <td>3220.000000</td>\n",
       "      <td>3220.000000</td>\n",
       "      <td>3220.000000</td>\n",
       "    </tr>\n",
       "    <tr>\n",
       "      <th>mean</th>\n",
       "      <td>2022.415839</td>\n",
       "      <td>140210.826398</td>\n",
       "      <td>44.937888</td>\n",
       "    </tr>\n",
       "    <tr>\n",
       "      <th>std</th>\n",
       "      <td>0.651948</td>\n",
       "      <td>60278.903317</td>\n",
       "      <td>48.868806</td>\n",
       "    </tr>\n",
       "    <tr>\n",
       "      <th>min</th>\n",
       "      <td>2020.000000</td>\n",
       "      <td>5679.000000</td>\n",
       "      <td>0.000000</td>\n",
       "    </tr>\n",
       "    <tr>\n",
       "      <th>25%</th>\n",
       "      <td>2022.000000</td>\n",
       "      <td>100000.000000</td>\n",
       "      <td>0.000000</td>\n",
       "    </tr>\n",
       "    <tr>\n",
       "      <th>50%</th>\n",
       "      <td>2022.000000</td>\n",
       "      <td>136000.000000</td>\n",
       "      <td>0.000000</td>\n",
       "    </tr>\n",
       "    <tr>\n",
       "      <th>75%</th>\n",
       "      <td>2023.000000</td>\n",
       "      <td>178637.500000</td>\n",
       "      <td>100.000000</td>\n",
       "    </tr>\n",
       "    <tr>\n",
       "      <th>max</th>\n",
       "      <td>2023.000000</td>\n",
       "      <td>450000.000000</td>\n",
       "      <td>100.000000</td>\n",
       "    </tr>\n",
       "  </tbody>\n",
       "</table>\n",
       "</div>"
      ],
      "text/plain": [
       "         work_year  salary_in_usd  remote_ratio\n",
       "count  3220.000000    3220.000000   3220.000000\n",
       "mean   2022.415839  140210.826398     44.937888\n",
       "std       0.651948   60278.903317     48.868806\n",
       "min    2020.000000    5679.000000      0.000000\n",
       "25%    2022.000000  100000.000000      0.000000\n",
       "50%    2022.000000  136000.000000      0.000000\n",
       "75%    2023.000000  178637.500000    100.000000\n",
       "max    2023.000000  450000.000000    100.000000"
      ]
     },
     "execution_count": 13,
     "metadata": {},
     "output_type": "execute_result"
    }
   ],
   "source": [
    "df.describe()"
   ]
  },
  {
   "cell_type": "markdown",
   "id": "deb318ef",
   "metadata": {},
   "source": [
    "# Organizando os dados"
   ]
  },
  {
   "cell_type": "markdown",
   "id": "35568527",
   "metadata": {},
   "source": [
    "Separando algumas possibilidades de features e o target."
   ]
  },
  {
   "cell_type": "code",
   "execution_count": 14,
   "id": "c27c9ddc",
   "metadata": {},
   "outputs": [],
   "source": [
    "# Divisão de dados em features e target\n",
    "# Selecionando todas as colunas como features\n",
    "\n",
    "X = df.drop(columns='salary_in_usd', axis=1)\n",
    "y = df['salary_in_usd']"
   ]
  },
  {
   "cell_type": "code",
   "execution_count": 15,
   "id": "40ae1d6f",
   "metadata": {},
   "outputs": [],
   "source": [
    "# Transformação de dados categoricos para númericos utilizando o Label Encoder\n",
    "\n",
    "encoder = LabelEncoder()\n",
    "categorical_features = list(X.columns)\n",
    "for each in categorical_features:\n",
    "    X[each] = encoder.fit_transform(X[each])"
   ]
  },
  {
   "cell_type": "code",
   "execution_count": 16,
   "id": "03a92032",
   "metadata": {},
   "outputs": [],
   "source": [
    "# Divisão dOS dados 80%  para treino e 20% para teste\n",
    "\n",
    "X_train, X_test, y_train, y_test = train_test_split(X,y,test_size = 0.2,random_state = 2)"
   ]
  },
  {
   "cell_type": "markdown",
   "id": "a2c66fef",
   "metadata": {},
   "source": [
    "# Treinando o modelo"
   ]
  },
  {
   "cell_type": "markdown",
   "id": "3d2c2705",
   "metadata": {},
   "source": [
    "Algoritmos utilizados\n",
    "\n",
    "* DecisionTreeRegressor\n",
    "* RandomForestRegressor"
   ]
  },
  {
   "cell_type": "markdown",
   "id": "7585e8a7",
   "metadata": {},
   "source": [
    "DecisionTreeRegressor - mais rápido que o KNN, melhor utilizado em conjuntos de dados maiores e mais complexos, pode ser mais impreciso"
   ]
  },
  {
   "cell_type": "markdown",
   "id": "95ed235b",
   "metadata": {},
   "source": [
    "RandomForestRegressor - algoritmo utilizado como método de ensemble para deixar o modelo mais robusto e diminuir a variancia, tem como base a média de diversas árvores menores."
   ]
  },
  {
   "cell_type": "code",
   "execution_count": 17,
   "id": "4808e5f0",
   "metadata": {},
   "outputs": [],
   "source": [
    "# Utilizaremos os Algoritmos citados acima\n",
    "\n",
    "model_rf = RandomForestRegressor(random_state=2)\n",
    "model_dt = DecisionTreeRegressor(random_state=2)"
   ]
  },
  {
   "cell_type": "code",
   "execution_count": 18,
   "id": "481c3da5",
   "metadata": {},
   "outputs": [
    {
     "data": {
      "text/plain": [
       "DecisionTreeRegressor(random_state=2)"
      ]
     },
     "execution_count": 18,
     "metadata": {},
     "output_type": "execute_result"
    }
   ],
   "source": [
    "# Treinando os modelos com os dados de treino\n",
    "\n",
    "model_rf.fit(X_train,y_train)\n",
    "model_dt.fit(X_train,y_train)"
   ]
  },
  {
   "cell_type": "code",
   "execution_count": 19,
   "id": "e4ce4b3d",
   "metadata": {},
   "outputs": [],
   "source": [
    "# Prevendo os resultados dos dados de teste\n",
    "\n",
    "y_pred_rf = model_rf.predict(X_test)\n",
    "y_pred_dt = model_dt.predict(X_test)"
   ]
  },
  {
   "cell_type": "code",
   "execution_count": 20,
   "id": "a5c153ec",
   "metadata": {},
   "outputs": [
    {
     "name": "stdout",
     "output_type": "stream",
     "text": [
      "Métricas de desempenho do algoritmo RandomForestRegressor\n",
      "0.3890497862133584\n",
      "36622.87957123584\n",
      "------------------------------------------------------------\n",
      "Métricas de desempenho do algoritmo DecisionTreeRegressor\n",
      "0.3605803592526391\n",
      "37714.6994246695\n"
     ]
    }
   ],
   "source": [
    "# Avaliando o desempenho dos algoritmos verificando a sua influência no resultado e o seu erro médio \n",
    "\n",
    "print('Métricas de desempenho do algoritmo RandomForestRegressor')\n",
    "print(r2_score(y_test, y_pred_rf))\n",
    "print(mean_absolute_error(y_test, y_pred_rf))\n",
    "print('-'*60)\n",
    "print('Métricas de desempenho do algoritmo DecisionTreeRegressor')\n",
    "print(r2_score(y_test, y_pred_dt))\n",
    "print(mean_absolute_error(y_test, y_pred_dt))"
   ]
  },
  {
   "cell_type": "markdown",
   "id": "f214db5e",
   "metadata": {},
   "source": [
    "# Otimizando Hiperparâmetros"
   ]
  },
  {
   "cell_type": "code",
   "execution_count": 21,
   "id": "2ef6d964",
   "metadata": {},
   "outputs": [],
   "source": [
    "# Variáveis que serão testadas para avaliar qual melhor parâmetro a ser utilizado\n",
    "n_estimators = [5,20,50,70,100] # numero de árvores na floresta\n",
    "max_features = ['auto', 'sqrt'] # número de features em consideração em cada divisão\n",
    "max_depth = [int(x) for x in np.linspace(10, 50, num = 25)] # profundidade das árvores\n",
    "min_samples_split = [2, 6, 10] # número mínimo de amostras necessárias para dividir um nó interno\n",
    "min_samples_leaf = [1, 3, 4] # número mínimo de amostras que deve existir em cada folha"
   ]
  },
  {
   "cell_type": "code",
   "execution_count": 22,
   "id": "575815a8",
   "metadata": {},
   "outputs": [],
   "source": [
    "random_grid_tree = {\n",
    "    'max_features': max_features,\n",
    "    'max_depth': max_depth,\n",
    "    'min_samples_split': min_samples_split,\n",
    "    'min_samples_leaf': min_samples_leaf\n",
    "}"
   ]
  },
  {
   "cell_type": "code",
   "execution_count": 23,
   "id": "2d9bb307",
   "metadata": {},
   "outputs": [
    {
     "name": "stdout",
     "output_type": "stream",
     "text": [
      "Fitting 5 folds for each of 100 candidates, totalling 500 fits\n"
     ]
    },
    {
     "data": {
      "text/plain": [
       "RandomizedSearchCV(cv=5,\n",
       "                   estimator=DecisionTreeRegressor(max_depth=120,\n",
       "                                                   max_features='auto',\n",
       "                                                   min_samples_leaf=3,\n",
       "                                                   min_samples_split=10),\n",
       "                   n_iter=100, n_jobs=-1,\n",
       "                   param_distributions={'max_depth': [10, 11, 13, 15, 16, 18,\n",
       "                                                      20, 21, 23, 25, 26, 28,\n",
       "                                                      30, 31, 33, 35, 36, 38,\n",
       "                                                      40, 41, 43, 45, 46, 48,\n",
       "                                                      50],\n",
       "                                        'max_features': ['auto', 'sqrt'],\n",
       "                                        'min_samples_leaf': [1, 3, 4],\n",
       "                                        'min_samples_split': [2, 6, 10]},\n",
       "                   random_state=35, verbose=2)"
      ]
     },
     "execution_count": 23,
     "metadata": {},
     "output_type": "execute_result"
    }
   ],
   "source": [
    "# modelo que será comparado para encontrar os melhores parâmetros\n",
    "dt  = DecisionTreeRegressor(max_depth=120, max_features='auto', min_samples_leaf=3, min_samples_split=10)\n",
    "dt_random = RandomizedSearchCV(estimator = dt,param_distributions = random_grid_tree, n_iter = 100, cv = 5, verbose=2, random_state=35, n_jobs = -1)\n",
    "\n",
    "dt_random.fit(X_train, y_train)"
   ]
  },
  {
   "cell_type": "code",
   "execution_count": 24,
   "id": "55c6bf2f",
   "metadata": {},
   "outputs": [
    {
     "name": "stdout",
     "output_type": "stream",
     "text": [
      "Random grid:  {'max_features': ['auto', 'sqrt'], 'max_depth': [10, 11, 13, 15, 16, 18, 20, 21, 23, 25, 26, 28, 30, 31, 33, 35, 36, 38, 40, 41, 43, 45, 46, 48, 50], 'min_samples_split': [2, 6, 10], 'min_samples_leaf': [1, 3, 4]} \n",
      "\n",
      "Best Parameters:  {'min_samples_split': 10, 'min_samples_leaf': 4, 'max_features': 'auto', 'max_depth': 38}  \n",
      "\n"
     ]
    }
   ],
   "source": [
    "print ('Random grid: ', random_grid_tree, '\\n')\n",
    "print ('Best Parameters: ', dt_random.best_params_, ' \\n')"
   ]
  },
  {
   "cell_type": "code",
   "execution_count": 25,
   "id": "fe731fe0",
   "metadata": {},
   "outputs": [
    {
     "data": {
      "text/plain": [
       "DecisionTreeRegressor(max_depth=38, max_features='auto', min_samples_leaf=4,\n",
       "                      min_samples_split=10)"
      ]
     },
     "execution_count": 25,
     "metadata": {},
     "output_type": "execute_result"
    }
   ],
   "source": [
    "# Utilizando os parâmetros otimizados para treinar o modelo\n",
    "model_dt_otim = DecisionTreeRegressor(max_depth=38, max_features='auto', min_samples_leaf=4, min_samples_split=10)\n",
    "model_dt_otim.fit(X_train,y_train)"
   ]
  },
  {
   "cell_type": "code",
   "execution_count": 26,
   "id": "544df865",
   "metadata": {},
   "outputs": [],
   "source": [
    "y_train_pred_dt_otim = model_dt_otim.predict(( X_train))\n",
    "y_test_pred_dt_otim = model_dt_otim.predict(( X_test ))"
   ]
  },
  {
   "cell_type": "code",
   "execution_count": 27,
   "id": "4f9e71d2",
   "metadata": {
    "scrolled": true
   },
   "outputs": [
    {
     "name": "stdout",
     "output_type": "stream",
     "text": [
      "Resultados de Treino\n",
      "0.44964818277161844\n",
      "33322.02671650307\n",
      "Resultados de Teste\n",
      "0.38500049794632485\n",
      "36969.96588543402\n"
     ]
    }
   ],
   "source": [
    "# Visualizando os resultados do modelo com parâmetros otimizados\n",
    "print('Resultados de Treino')\n",
    "print(r2_score(y_train, y_train_pred_dt_otim))\n",
    "print(mean_absolute_error(y_train, y_train_pred_dt_otim))\n",
    "print('Resultados de Teste')\n",
    "print(r2_score(y_test, y_test_pred_dt_otim))\n",
    "print(mean_absolute_error(y_test, y_test_pred_dt_otim))"
   ]
  },
  {
   "cell_type": "code",
   "execution_count": 28,
   "id": "20bfe6f8",
   "metadata": {},
   "outputs": [],
   "source": [
    "random_grid = {'n_estimators': n_estimators,\n",
    "'max_features': max_features,\n",
    "'max_depth': max_depth,\n",
    "'min_samples_split': min_samples_split,\n",
    "'min_samples_leaf': min_samples_leaf,\n",
    "}"
   ]
  },
  {
   "cell_type": "code",
   "execution_count": 29,
   "id": "f0291349",
   "metadata": {},
   "outputs": [
    {
     "name": "stdout",
     "output_type": "stream",
     "text": [
      "Fitting 5 folds for each of 100 candidates, totalling 500 fits\n",
      "Random grid:  {'n_estimators': [5, 20, 50, 70, 100], 'max_features': ['auto', 'sqrt'], 'max_depth': [10, 11, 13, 15, 16, 18, 20, 21, 23, 25, 26, 28, 30, 31, 33, 35, 36, 38, 40, 41, 43, 45, 46, 48, 50], 'min_samples_split': [2, 6, 10], 'min_samples_leaf': [1, 3, 4]} \n",
      "\n",
      "Best Parameters:  {'n_estimators': 100, 'min_samples_split': 10, 'min_samples_leaf': 3, 'max_features': 'sqrt', 'max_depth': 16}  \n",
      "\n"
     ]
    }
   ],
   "source": [
    "rf = RandomForestRegressor()\n",
    "rf_random = RandomizedSearchCV(estimator = rf,param_distributions = random_grid, n_iter = 100, cv = 5, verbose=2, random_state=35, n_jobs = -1)\n",
    "\n",
    "rf_random.fit(X_train, y_train)\n",
    "\n",
    "print ('Random grid: ', random_grid, '\\n')\n",
    "# print the best parameters\n",
    "print ('Best Parameters: ', rf_random.best_params_, ' \\n')"
   ]
  },
  {
   "cell_type": "code",
   "execution_count": 30,
   "id": "c51cab84",
   "metadata": {},
   "outputs": [
    {
     "data": {
      "text/plain": [
       "RandomForestRegressor(max_depth=20, max_features='sqrt', min_samples_leaf=3,\n",
       "                      min_samples_split=10, n_estimators=70)"
      ]
     },
     "execution_count": 30,
     "metadata": {},
     "output_type": "execute_result"
    }
   ],
   "source": [
    "model_rf_otim = RandomForestRegressor(n_estimators=70, min_samples_split=10, min_samples_leaf=3, max_features='sqrt', max_depth=20)\n",
    "model_rf_otim.fit(X_train,y_train)"
   ]
  },
  {
   "cell_type": "code",
   "execution_count": 31,
   "id": "e7eca258",
   "metadata": {},
   "outputs": [],
   "source": [
    "y_train_pred_rf_otim = model_rf_otim.predict(( X_train))\n",
    "y_test_pred_rf_otim = model_rf_otim.predict(( X_test ))"
   ]
  },
  {
   "cell_type": "code",
   "execution_count": 32,
   "id": "847e1490",
   "metadata": {},
   "outputs": [
    {
     "name": "stdout",
     "output_type": "stream",
     "text": [
      "Resultados de Treino\n",
      "0.4398775457446513\n",
      "33850.307276210515\n",
      "Resultados de Teste\n",
      "0.3876312679802659\n",
      "36641.510659051484\n"
     ]
    }
   ],
   "source": [
    "print('Resultados de Treino')\n",
    "print(r2_score(y_train, y_train_pred_rf_otim))\n",
    "print(mean_absolute_error(y_train, y_train_pred_rf_otim))\n",
    "print('Resultados de Teste')\n",
    "print(r2_score(y_test, y_test_pred_rf_otim))\n",
    "print(mean_absolute_error(y_test, y_test_pred_rf_otim))\n"
   ]
  },
  {
   "cell_type": "markdown",
   "id": "08cf998a",
   "metadata": {},
   "source": [
    "Optamos por seguir com o random Forest"
   ]
  },
  {
   "cell_type": "markdown",
   "id": "86f34d84",
   "metadata": {},
   "source": [
    "# Cross Validation"
   ]
  },
  {
   "cell_type": "code",
   "execution_count": 33,
   "id": "f61a5dc2",
   "metadata": {},
   "outputs": [
    {
     "data": {
      "text/html": [
       "<div>\n",
       "<style scoped>\n",
       "    .dataframe tbody tr th:only-of-type {\n",
       "        vertical-align: middle;\n",
       "    }\n",
       "\n",
       "    .dataframe tbody tr th {\n",
       "        vertical-align: top;\n",
       "    }\n",
       "\n",
       "    .dataframe thead th {\n",
       "        text-align: right;\n",
       "    }\n",
       "</style>\n",
       "<table border=\"1\" class=\"dataframe\">\n",
       "  <thead>\n",
       "    <tr style=\"text-align: right;\">\n",
       "      <th></th>\n",
       "      <th>mean_fit_time</th>\n",
       "      <th>std_fit_time</th>\n",
       "      <th>mean_score_time</th>\n",
       "      <th>std_score_time</th>\n",
       "      <th>param_n_estimators</th>\n",
       "      <th>param_min_samples_split</th>\n",
       "      <th>param_min_samples_leaf</th>\n",
       "      <th>param_max_features</th>\n",
       "      <th>param_max_depth</th>\n",
       "      <th>params</th>\n",
       "      <th>split0_test_score</th>\n",
       "      <th>split1_test_score</th>\n",
       "      <th>split2_test_score</th>\n",
       "      <th>split3_test_score</th>\n",
       "      <th>split4_test_score</th>\n",
       "      <th>mean_test_score</th>\n",
       "      <th>std_test_score</th>\n",
       "      <th>rank_test_score</th>\n",
       "    </tr>\n",
       "  </thead>\n",
       "  <tbody>\n",
       "    <tr>\n",
       "      <th>15</th>\n",
       "      <td>0.307827</td>\n",
       "      <td>0.019667</td>\n",
       "      <td>0.023592</td>\n",
       "      <td>0.003773</td>\n",
       "      <td>100</td>\n",
       "      <td>10</td>\n",
       "      <td>3</td>\n",
       "      <td>sqrt</td>\n",
       "      <td>16</td>\n",
       "      <td>{'n_estimators': 100, 'min_samples_split': 10,...</td>\n",
       "      <td>0.336944</td>\n",
       "      <td>0.421698</td>\n",
       "      <td>0.448129</td>\n",
       "      <td>0.369614</td>\n",
       "      <td>0.414421</td>\n",
       "      <td>0.398161</td>\n",
       "      <td>0.039693</td>\n",
       "      <td>1</td>\n",
       "    </tr>\n",
       "    <tr>\n",
       "      <th>26</th>\n",
       "      <td>0.212509</td>\n",
       "      <td>0.015067</td>\n",
       "      <td>0.014798</td>\n",
       "      <td>0.000759</td>\n",
       "      <td>70</td>\n",
       "      <td>2</td>\n",
       "      <td>3</td>\n",
       "      <td>sqrt</td>\n",
       "      <td>43</td>\n",
       "      <td>{'n_estimators': 70, 'min_samples_split': 2, '...</td>\n",
       "      <td>0.336075</td>\n",
       "      <td>0.428928</td>\n",
       "      <td>0.444031</td>\n",
       "      <td>0.370353</td>\n",
       "      <td>0.410769</td>\n",
       "      <td>0.398031</td>\n",
       "      <td>0.039592</td>\n",
       "      <td>2</td>\n",
       "    </tr>\n",
       "    <tr>\n",
       "      <th>30</th>\n",
       "      <td>0.131772</td>\n",
       "      <td>0.001817</td>\n",
       "      <td>0.012581</td>\n",
       "      <td>0.001945</td>\n",
       "      <td>50</td>\n",
       "      <td>10</td>\n",
       "      <td>3</td>\n",
       "      <td>sqrt</td>\n",
       "      <td>41</td>\n",
       "      <td>{'n_estimators': 50, 'min_samples_split': 10, ...</td>\n",
       "      <td>0.333769</td>\n",
       "      <td>0.421823</td>\n",
       "      <td>0.446715</td>\n",
       "      <td>0.369585</td>\n",
       "      <td>0.414391</td>\n",
       "      <td>0.397256</td>\n",
       "      <td>0.040348</td>\n",
       "      <td>3</td>\n",
       "    </tr>\n",
       "    <tr>\n",
       "      <th>48</th>\n",
       "      <td>0.328742</td>\n",
       "      <td>0.042431</td>\n",
       "      <td>0.030223</td>\n",
       "      <td>0.007342</td>\n",
       "      <td>100</td>\n",
       "      <td>10</td>\n",
       "      <td>3</td>\n",
       "      <td>sqrt</td>\n",
       "      <td>10</td>\n",
       "      <td>{'n_estimators': 100, 'min_samples_split': 10,...</td>\n",
       "      <td>0.337885</td>\n",
       "      <td>0.417167</td>\n",
       "      <td>0.447270</td>\n",
       "      <td>0.367809</td>\n",
       "      <td>0.416139</td>\n",
       "      <td>0.397254</td>\n",
       "      <td>0.039106</td>\n",
       "      <td>4</td>\n",
       "    </tr>\n",
       "    <tr>\n",
       "      <th>42</th>\n",
       "      <td>0.180574</td>\n",
       "      <td>0.017121</td>\n",
       "      <td>0.012195</td>\n",
       "      <td>0.001603</td>\n",
       "      <td>50</td>\n",
       "      <td>2</td>\n",
       "      <td>3</td>\n",
       "      <td>sqrt</td>\n",
       "      <td>45</td>\n",
       "      <td>{'n_estimators': 50, 'min_samples_split': 2, '...</td>\n",
       "      <td>0.339277</td>\n",
       "      <td>0.412413</td>\n",
       "      <td>0.444830</td>\n",
       "      <td>0.376247</td>\n",
       "      <td>0.412489</td>\n",
       "      <td>0.397051</td>\n",
       "      <td>0.036133</td>\n",
       "      <td>5</td>\n",
       "    </tr>\n",
       "    <tr>\n",
       "      <th>...</th>\n",
       "      <td>...</td>\n",
       "      <td>...</td>\n",
       "      <td>...</td>\n",
       "      <td>...</td>\n",
       "      <td>...</td>\n",
       "      <td>...</td>\n",
       "      <td>...</td>\n",
       "      <td>...</td>\n",
       "      <td>...</td>\n",
       "      <td>...</td>\n",
       "      <td>...</td>\n",
       "      <td>...</td>\n",
       "      <td>...</td>\n",
       "      <td>...</td>\n",
       "      <td>...</td>\n",
       "      <td>...</td>\n",
       "      <td>...</td>\n",
       "      <td>...</td>\n",
       "    </tr>\n",
       "    <tr>\n",
       "      <th>49</th>\n",
       "      <td>0.457181</td>\n",
       "      <td>0.021030</td>\n",
       "      <td>0.028111</td>\n",
       "      <td>0.004568</td>\n",
       "      <td>100</td>\n",
       "      <td>2</td>\n",
       "      <td>1</td>\n",
       "      <td>auto</td>\n",
       "      <td>36</td>\n",
       "      <td>{'n_estimators': 100, 'min_samples_split': 2, ...</td>\n",
       "      <td>0.265875</td>\n",
       "      <td>0.405311</td>\n",
       "      <td>0.434482</td>\n",
       "      <td>0.356732</td>\n",
       "      <td>0.395712</td>\n",
       "      <td>0.371622</td>\n",
       "      <td>0.058431</td>\n",
       "      <td>96</td>\n",
       "    </tr>\n",
       "    <tr>\n",
       "      <th>50</th>\n",
       "      <td>0.023693</td>\n",
       "      <td>0.003276</td>\n",
       "      <td>0.004997</td>\n",
       "      <td>0.002605</td>\n",
       "      <td>5</td>\n",
       "      <td>6</td>\n",
       "      <td>1</td>\n",
       "      <td>auto</td>\n",
       "      <td>10</td>\n",
       "      <td>{'n_estimators': 5, 'min_samples_split': 6, 'm...</td>\n",
       "      <td>0.270514</td>\n",
       "      <td>0.411583</td>\n",
       "      <td>0.436422</td>\n",
       "      <td>0.351672</td>\n",
       "      <td>0.384403</td>\n",
       "      <td>0.370919</td>\n",
       "      <td>0.057581</td>\n",
       "      <td>97</td>\n",
       "    </tr>\n",
       "    <tr>\n",
       "      <th>20</th>\n",
       "      <td>0.420080</td>\n",
       "      <td>0.022661</td>\n",
       "      <td>0.022982</td>\n",
       "      <td>0.001275</td>\n",
       "      <td>100</td>\n",
       "      <td>2</td>\n",
       "      <td>1</td>\n",
       "      <td>auto</td>\n",
       "      <td>35</td>\n",
       "      <td>{'n_estimators': 100, 'min_samples_split': 2, ...</td>\n",
       "      <td>0.250393</td>\n",
       "      <td>0.413366</td>\n",
       "      <td>0.437809</td>\n",
       "      <td>0.357082</td>\n",
       "      <td>0.393575</td>\n",
       "      <td>0.370445</td>\n",
       "      <td>0.065584</td>\n",
       "      <td>98</td>\n",
       "    </tr>\n",
       "    <tr>\n",
       "      <th>11</th>\n",
       "      <td>0.021552</td>\n",
       "      <td>0.001736</td>\n",
       "      <td>0.004593</td>\n",
       "      <td>0.001019</td>\n",
       "      <td>5</td>\n",
       "      <td>2</td>\n",
       "      <td>1</td>\n",
       "      <td>sqrt</td>\n",
       "      <td>28</td>\n",
       "      <td>{'n_estimators': 5, 'min_samples_split': 2, 'm...</td>\n",
       "      <td>0.277749</td>\n",
       "      <td>0.383222</td>\n",
       "      <td>0.421635</td>\n",
       "      <td>0.350427</td>\n",
       "      <td>0.405052</td>\n",
       "      <td>0.367617</td>\n",
       "      <td>0.050862</td>\n",
       "      <td>99</td>\n",
       "    </tr>\n",
       "    <tr>\n",
       "      <th>43</th>\n",
       "      <td>0.108573</td>\n",
       "      <td>0.010172</td>\n",
       "      <td>0.007616</td>\n",
       "      <td>0.000520</td>\n",
       "      <td>20</td>\n",
       "      <td>2</td>\n",
       "      <td>1</td>\n",
       "      <td>auto</td>\n",
       "      <td>23</td>\n",
       "      <td>{'n_estimators': 20, 'min_samples_split': 2, '...</td>\n",
       "      <td>0.240124</td>\n",
       "      <td>0.400266</td>\n",
       "      <td>0.433961</td>\n",
       "      <td>0.356441</td>\n",
       "      <td>0.391793</td>\n",
       "      <td>0.364517</td>\n",
       "      <td>0.066908</td>\n",
       "      <td>100</td>\n",
       "    </tr>\n",
       "  </tbody>\n",
       "</table>\n",
       "<p>100 rows × 18 columns</p>\n",
       "</div>"
      ],
      "text/plain": [
       "    mean_fit_time  std_fit_time  mean_score_time  std_score_time  \\\n",
       "15       0.307827      0.019667         0.023592        0.003773   \n",
       "26       0.212509      0.015067         0.014798        0.000759   \n",
       "30       0.131772      0.001817         0.012581        0.001945   \n",
       "48       0.328742      0.042431         0.030223        0.007342   \n",
       "42       0.180574      0.017121         0.012195        0.001603   \n",
       "..            ...           ...              ...             ...   \n",
       "49       0.457181      0.021030         0.028111        0.004568   \n",
       "50       0.023693      0.003276         0.004997        0.002605   \n",
       "20       0.420080      0.022661         0.022982        0.001275   \n",
       "11       0.021552      0.001736         0.004593        0.001019   \n",
       "43       0.108573      0.010172         0.007616        0.000520   \n",
       "\n",
       "   param_n_estimators param_min_samples_split param_min_samples_leaf  \\\n",
       "15                100                      10                      3   \n",
       "26                 70                       2                      3   \n",
       "30                 50                      10                      3   \n",
       "48                100                      10                      3   \n",
       "42                 50                       2                      3   \n",
       "..                ...                     ...                    ...   \n",
       "49                100                       2                      1   \n",
       "50                  5                       6                      1   \n",
       "20                100                       2                      1   \n",
       "11                  5                       2                      1   \n",
       "43                 20                       2                      1   \n",
       "\n",
       "   param_max_features param_max_depth  \\\n",
       "15               sqrt              16   \n",
       "26               sqrt              43   \n",
       "30               sqrt              41   \n",
       "48               sqrt              10   \n",
       "42               sqrt              45   \n",
       "..                ...             ...   \n",
       "49               auto              36   \n",
       "50               auto              10   \n",
       "20               auto              35   \n",
       "11               sqrt              28   \n",
       "43               auto              23   \n",
       "\n",
       "                                               params  split0_test_score  \\\n",
       "15  {'n_estimators': 100, 'min_samples_split': 10,...           0.336944   \n",
       "26  {'n_estimators': 70, 'min_samples_split': 2, '...           0.336075   \n",
       "30  {'n_estimators': 50, 'min_samples_split': 10, ...           0.333769   \n",
       "48  {'n_estimators': 100, 'min_samples_split': 10,...           0.337885   \n",
       "42  {'n_estimators': 50, 'min_samples_split': 2, '...           0.339277   \n",
       "..                                                ...                ...   \n",
       "49  {'n_estimators': 100, 'min_samples_split': 2, ...           0.265875   \n",
       "50  {'n_estimators': 5, 'min_samples_split': 6, 'm...           0.270514   \n",
       "20  {'n_estimators': 100, 'min_samples_split': 2, ...           0.250393   \n",
       "11  {'n_estimators': 5, 'min_samples_split': 2, 'm...           0.277749   \n",
       "43  {'n_estimators': 20, 'min_samples_split': 2, '...           0.240124   \n",
       "\n",
       "    split1_test_score  split2_test_score  split3_test_score  \\\n",
       "15           0.421698           0.448129           0.369614   \n",
       "26           0.428928           0.444031           0.370353   \n",
       "30           0.421823           0.446715           0.369585   \n",
       "48           0.417167           0.447270           0.367809   \n",
       "42           0.412413           0.444830           0.376247   \n",
       "..                ...                ...                ...   \n",
       "49           0.405311           0.434482           0.356732   \n",
       "50           0.411583           0.436422           0.351672   \n",
       "20           0.413366           0.437809           0.357082   \n",
       "11           0.383222           0.421635           0.350427   \n",
       "43           0.400266           0.433961           0.356441   \n",
       "\n",
       "    split4_test_score  mean_test_score  std_test_score  rank_test_score  \n",
       "15           0.414421         0.398161        0.039693                1  \n",
       "26           0.410769         0.398031        0.039592                2  \n",
       "30           0.414391         0.397256        0.040348                3  \n",
       "48           0.416139         0.397254        0.039106                4  \n",
       "42           0.412489         0.397051        0.036133                5  \n",
       "..                ...              ...             ...              ...  \n",
       "49           0.395712         0.371622        0.058431               96  \n",
       "50           0.384403         0.370919        0.057581               97  \n",
       "20           0.393575         0.370445        0.065584               98  \n",
       "11           0.405052         0.367617        0.050862               99  \n",
       "43           0.391793         0.364517        0.066908              100  \n",
       "\n",
       "[100 rows x 18 columns]"
      ]
     },
     "execution_count": 33,
     "metadata": {},
     "output_type": "execute_result"
    }
   ],
   "source": [
    "# Tabela com os melhores scores para cada variação \n",
    "df_search = pd.DataFrame(rf_random.cv_results_)\n",
    "df_search.sort_values(by='rank_test_score')"
   ]
  },
  {
   "cell_type": "code",
   "execution_count": 34,
   "id": "a03936fe",
   "metadata": {
    "scrolled": false
   },
   "outputs": [
    {
     "name": "stdout",
     "output_type": "stream",
     "text": [
      "work_year: 4.13%\n",
      "experience_level: 16.4%\n",
      "employment_type: 0.0%\n",
      "job_title: 16.12%\n",
      "salary_currency: 23.53%\n",
      "employee_residence: 21.5%\n",
      "remote_ratio: 2.28%\n",
      "company_location: 13.72%\n",
      "company_size: 2.31%\n"
     ]
    }
   ],
   "source": [
    "# Verificação da influência de cada feature \n",
    "\n",
    "feat_imp = model_rf_otim.feature_importances_\n",
    "feat_name = X.columns\n",
    "\n",
    "for i in range(len(X.columns)):\n",
    "    print(f'{feat_name[i]}: {str(round(feat_imp[i]*100,2))}%')\n"
   ]
  },
  {
   "cell_type": "markdown",
   "id": "daca6394",
   "metadata": {},
   "source": [
    "# Visualizando os resultados"
   ]
  },
  {
   "cell_type": "code",
   "execution_count": 35,
   "id": "56b0d85b",
   "metadata": {
    "scrolled": true
   },
   "outputs": [
    {
     "data": {
      "image/png": "[encoded data removed]",
      "text/plain": [
       "<Figure size 640x480 with 1 Axes>"
      ]
     },
     "metadata": {},
     "output_type": "display_data"
    }
   ],
   "source": [
    "# Visualização de dados de teste vs dados previstos\n",
    "plt.scatter(y_test_pred_rf_otim, y_test)\n",
    "plt.xlabel(\"Actual Salary\")\n",
    "plt.ylabel(\"Predicted Salary\")\n",
    "plt.title(\"Actual Salary vs Predicted Salary\")\n",
    "plt.show()"
   ]
  },
  {
   "cell_type": "code",
   "execution_count": 36,
   "id": "3b1cdc40",
   "metadata": {},
   "outputs": [],
   "source": [
    "# Correlação dos dados\n",
    "df_selecao = pd.DataFrame(X_train, columns=X_train.columns)\n",
    "df_selecao['salary_in_usd'] = y_train\n",
    "corr = df_selecao.corr(method='pearson')"
   ]
  },
  {
   "cell_type": "code",
   "execution_count": 37,
   "id": "40d399ae",
   "metadata": {},
   "outputs": [
    {
     "data": {
      "text/plain": [
       "<AxesSubplot:>"
      ]
     },
     "execution_count": 37,
     "metadata": {},
     "output_type": "execute_result"
    },
    {
     "data": {
      "image/png": "[encoded data removed]",
      "text/plain": [
       "<Figure size 600x400 with 2 Axes>"
      ]
     },
     "metadata": {},
     "output_type": "display_data"
    }
   ],
   "source": [
    "# https://seaborn.pydata.org/examples/many_pairwise_correlations.html\n",
    "# Heatmat da Correlações\n",
    "mask = np.triu(np.ones_like(corr, dtype=bool))\n",
    "f, ax = plt.subplots(figsize=(6, 4))\n",
    "cmap = sns.diverging_palette(230, 20, as_cmap=True)\n",
    "sns.heatmap(corr, mask=mask, cmap=cmap, vmax=.3, center=0,square=True, linewidths=.5, cbar_kws={\"shrink\": .5})"
   ]
  },
  {
   "cell_type": "code",
   "execution_count": 38,
   "id": "6d925bf3",
   "metadata": {
    "scrolled": true
   },
   "outputs": [
    {
     "data": {
      "image/png": "[encoded data removed]",
      "text/plain": [
       "<Figure size 1000x800 with 1 Axes>"
      ]
     },
     "metadata": {},
     "output_type": "display_data"
    }
   ],
   "source": [
    "# Curva de aprendizado\n",
    "train_sizes, train_scores, test_scores = learning_curve(\n",
    "    estimator=model_rf,\n",
    "    X=X,\n",
    "    y=y,\n",
    "    cv=5,\n",
    "    scoring=\"neg_root_mean_squared_error\",\n",
    "    train_sizes = [1, 75, 165, 270, 331]\n",
    ")\n",
    "\n",
    "train_mean = -train_scores.mean(axis=1)\n",
    "test_mean = -test_scores.mean(axis=1)\n",
    "\n",
    "plt.subplots(figsize=(10,8))\n",
    "plt.plot(train_sizes, train_mean, 'o--', label=\"train\",color='g')\n",
    "plt.plot(train_sizes, test_mean, 'o--', label=\"validation\",color='r')\n",
    "\n",
    "plt.title(\"Learning Curve\")\n",
    "plt.xlabel(\"Training Set Size\")\n",
    "plt.ylabel(\"RMSE\")\n",
    "plt.legend(loc=\"best\")\n",
    "\n",
    "plt.show()\n"
   ]
  },
  {
   "cell_type": "markdown",
   "id": "e35010b2",
   "metadata": {},
   "source": [
    "É possível ver um nível de erro alto e uma estabilização, é categorizado como um underfiting e avaliamos como necessário mais dados para conseguir uma performace melhor."
   ]
  },
  {
   "cell_type": "code",
   "execution_count": null,
   "id": "6cc62325",
   "metadata": {},
   "outputs": [],
   "source": []
  }
 ],
 "metadata": {
  "kernelspec": {
   "display_name": "Python 3 (ipykernel)",
   "language": "python",
   "name": "python3"
  },
  "language_info": {
   "codemirror_mode": {
    "name": "ipython",
    "version": 3
   },
   "file_extension": ".py",
   "mimetype": "text/x-python",
   "name": "python",
   "nbconvert_exporter": "python",
   "pygments_lexer": "ipython3",
   "version": "3.9.13"
  }
 },
 "nbformat": 4,
 "nbformat_minor": 5
}
